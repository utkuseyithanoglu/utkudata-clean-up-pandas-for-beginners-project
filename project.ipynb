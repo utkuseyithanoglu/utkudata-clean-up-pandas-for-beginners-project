{
 "cells": [
  {
   "cell_type": "markdown",
   "id": "6c9a1a29",
   "metadata": {},
   "source": [
    "# Basic Python Practices\n",
    "\n",
    "#### Exercise 00. Variable Declaration\n",
    "\n",
    "Define the following variables with values of your choice:\n",
    "\n",
    "- A variable that stores your name (text).\n",
    "- A variable that stores your age (integer).\n",
    "- A variable that indicates if you like programming (true or false).\n",
    "- A variable that stores your average grade (decimal number)."
   ]
  },
  {
   "cell_type": "code",
   "execution_count": 2,
   "id": "04495cc0",
   "metadata": {},
   "outputs": [],
   "source": [
    "# Declare your variables here.\n",
    "\n",
    "#Example\n",
    "name=\"utku\"\n",
    "age=23\n",
    "programming=True\n",
    "grade=123.45"
   ]
  },
  {
   "cell_type": "markdown",
   "id": "92b948f4",
   "metadata": {},
   "source": [
    "- Create a list with your five favorite numbers and print it."
   ]
  },
  {
   "cell_type": "code",
   "execution_count": 1,
   "id": "cb7a4019",
   "metadata": {},
   "outputs": [],
   "source": [
    "# Favorite numbers list\n",
    "list=[3,4,5,6,7]"
   ]
  },
  {
   "cell_type": "markdown",
   "id": "04332f35",
   "metadata": {},
   "source": [
    "- Create a dictionary that stores a student's information and print it:\n",
    "\n",
    "        - Name\n",
    "        - Age\n",
    "        - Final grade"
   ]
  },
  {
   "cell_type": "code",
   "execution_count": null,
   "id": "7997e8d0",
   "metadata": {},
   "outputs": [],
   "source": [
    "dict={\"name\":name,\n",
    "      \"age\":age,\n",
    "      \"final_grade\":grade}"
   ]
  },
  {
   "cell_type": "markdown",
   "id": "5dbaa835",
   "metadata": {},
   "source": [
    "#### Exercise 01. Basic data analysis with native Python structures.  \n",
    "Create a list with the grades of 5 students: [8.5, 9.2, 7.8, 8.9, 10].\n",
    "\n",
    "- Calculate the average of the grades."
   ]
  },
  {
   "cell_type": "code",
   "execution_count": 3,
   "id": "6f5ee032",
   "metadata": {},
   "outputs": [
    {
     "data": {
      "text/plain": [
       "np.float64(8.879999999999999)"
      ]
     },
     "execution_count": 3,
     "metadata": {},
     "output_type": "execute_result"
    }
   ],
   "source": [
    "import pandas as pd\n",
    "list=pd.Series([8.5, 9.2, 7.8, 8.9, 10])\n",
    "list.mean()"
   ]
  },
  {
   "cell_type": "markdown",
   "id": "20da3fc1",
   "metadata": {},
   "source": [
    "- Find the highest and lowest grade."
   ]
  },
  {
   "cell_type": "code",
   "execution_count": 5,
   "id": "4396c1a4",
   "metadata": {},
   "outputs": [
    {
     "data": {
      "text/plain": [
       "np.float64(10.0)"
      ]
     },
     "execution_count": 5,
     "metadata": {},
     "output_type": "execute_result"
    }
   ],
   "source": [
    "list.max()\n"
   ]
  },
  {
   "cell_type": "markdown",
   "id": "5d7e1112",
   "metadata": {},
   "source": [
    "# Real estate data cleaning with Pandas for efficient analysis\n",
    "\n",
    "This is a real dataset that was downloaded using web scraping techniques. The data contains records from **Fotocasa**, one of the most popular real estate websites in Spain. Please do not perform web scraping unless it is for academic purposes.\n",
    "\n",
    "The dataset was downloaded a few years ago by Henry Navarro, and no economic benefit was obtained from it.\n",
    "\n",
    "It contains thousands of real house listings published on the website www.fotocasa.com. Your goal is to extract as much information as possible with the data science knowledge you have acquired so far.\n",
    "\n",
    "Let's get started!\n",
    "\n",
    "- First, let's read and explore the dataset."
   ]
  },
  {
   "cell_type": "code",
   "execution_count": 7,
   "id": "7ac6cb18",
   "metadata": {},
   "outputs": [
    {
     "data": {
      "text/html": [
       "<div>\n",
       "<style scoped>\n",
       "    .dataframe tbody tr th:only-of-type {\n",
       "        vertical-align: middle;\n",
       "    }\n",
       "\n",
       "    .dataframe tbody tr th {\n",
       "        vertical-align: top;\n",
       "    }\n",
       "\n",
       "    .dataframe thead th {\n",
       "        text-align: right;\n",
       "    }\n",
       "</style>\n",
       "<table border=\"1\" class=\"dataframe\">\n",
       "  <thead>\n",
       "    <tr style=\"text-align: right;\">\n",
       "      <th></th>\n",
       "      <th>Unnamed: 0</th>\n",
       "      <th>id_realEstates</th>\n",
       "      <th>isNew</th>\n",
       "      <th>realEstate_name</th>\n",
       "      <th>phone_realEstate</th>\n",
       "      <th>url_inmueble</th>\n",
       "      <th>rooms</th>\n",
       "      <th>bathrooms</th>\n",
       "      <th>surface</th>\n",
       "      <th>price</th>\n",
       "      <th>...</th>\n",
       "      <th>level4Id</th>\n",
       "      <th>level5Id</th>\n",
       "      <th>level6Id</th>\n",
       "      <th>level7Id</th>\n",
       "      <th>level8Id</th>\n",
       "      <th>accuracy</th>\n",
       "      <th>latitude</th>\n",
       "      <th>longitude</th>\n",
       "      <th>zipCode</th>\n",
       "      <th>customZone</th>\n",
       "    </tr>\n",
       "  </thead>\n",
       "  <tbody>\n",
       "    <tr>\n",
       "      <th>0</th>\n",
       "      <td>1</td>\n",
       "      <td>153771986</td>\n",
       "      <td>False</td>\n",
       "      <td>ferrari 57 inmobiliaria</td>\n",
       "      <td>912177526.0</td>\n",
       "      <td>https://www.fotocasa.es/es/comprar/vivienda/ma...</td>\n",
       "      <td>3.0</td>\n",
       "      <td>2.0</td>\n",
       "      <td>103.0</td>\n",
       "      <td>195000</td>\n",
       "      <td>...</td>\n",
       "      <td>0</td>\n",
       "      <td>0</td>\n",
       "      <td>0</td>\n",
       "      <td>0</td>\n",
       "      <td>0</td>\n",
       "      <td>0</td>\n",
       "      <td>40,2948276786438</td>\n",
       "      <td>-3,44402412135624</td>\n",
       "      <td>NaN</td>\n",
       "      <td>NaN</td>\n",
       "    </tr>\n",
       "    <tr>\n",
       "      <th>1</th>\n",
       "      <td>2</td>\n",
       "      <td>153867863</td>\n",
       "      <td>False</td>\n",
       "      <td>tecnocasa fuenlabrada ferrocarril</td>\n",
       "      <td>916358736.0</td>\n",
       "      <td>https://www.fotocasa.es/es/comprar/vivienda/ma...</td>\n",
       "      <td>3.0</td>\n",
       "      <td>1.0</td>\n",
       "      <td>NaN</td>\n",
       "      <td>89000</td>\n",
       "      <td>...</td>\n",
       "      <td>0</td>\n",
       "      <td>0</td>\n",
       "      <td>0</td>\n",
       "      <td>0</td>\n",
       "      <td>0</td>\n",
       "      <td>1</td>\n",
       "      <td>40,28674</td>\n",
       "      <td>-3,79351</td>\n",
       "      <td>NaN</td>\n",
       "      <td>NaN</td>\n",
       "    </tr>\n",
       "    <tr>\n",
       "      <th>2</th>\n",
       "      <td>3</td>\n",
       "      <td>153430440</td>\n",
       "      <td>False</td>\n",
       "      <td>look find boadilla</td>\n",
       "      <td>916350408.0</td>\n",
       "      <td>https://www.fotocasa.es/es/comprar/vivienda/ma...</td>\n",
       "      <td>2.0</td>\n",
       "      <td>2.0</td>\n",
       "      <td>99.0</td>\n",
       "      <td>390000</td>\n",
       "      <td>...</td>\n",
       "      <td>0</td>\n",
       "      <td>0</td>\n",
       "      <td>0</td>\n",
       "      <td>0</td>\n",
       "      <td>0</td>\n",
       "      <td>0</td>\n",
       "      <td>40,4115646786438</td>\n",
       "      <td>-3,90662252135624</td>\n",
       "      <td>NaN</td>\n",
       "      <td>NaN</td>\n",
       "    </tr>\n",
       "    <tr>\n",
       "      <th>3</th>\n",
       "      <td>4</td>\n",
       "      <td>152776331</td>\n",
       "      <td>False</td>\n",
       "      <td>tecnocasa fuenlabrada ferrocarril</td>\n",
       "      <td>916358736.0</td>\n",
       "      <td>https://www.fotocasa.es/es/comprar/vivienda/ma...</td>\n",
       "      <td>3.0</td>\n",
       "      <td>1.0</td>\n",
       "      <td>86.0</td>\n",
       "      <td>89000</td>\n",
       "      <td>...</td>\n",
       "      <td>0</td>\n",
       "      <td>0</td>\n",
       "      <td>0</td>\n",
       "      <td>0</td>\n",
       "      <td>0</td>\n",
       "      <td>0</td>\n",
       "      <td>40,2853785786438</td>\n",
       "      <td>-3,79508142135624</td>\n",
       "      <td>NaN</td>\n",
       "      <td>NaN</td>\n",
       "    </tr>\n",
       "    <tr>\n",
       "      <th>4</th>\n",
       "      <td>5</td>\n",
       "      <td>153180188</td>\n",
       "      <td>False</td>\n",
       "      <td>ferrari 57 inmobiliaria</td>\n",
       "      <td>912177526.0</td>\n",
       "      <td>https://www.fotocasa.es/es/comprar/vivienda/ma...</td>\n",
       "      <td>2.0</td>\n",
       "      <td>2.0</td>\n",
       "      <td>106.0</td>\n",
       "      <td>172000</td>\n",
       "      <td>...</td>\n",
       "      <td>0</td>\n",
       "      <td>0</td>\n",
       "      <td>0</td>\n",
       "      <td>0</td>\n",
       "      <td>0</td>\n",
       "      <td>0</td>\n",
       "      <td>40,2998774864376</td>\n",
       "      <td>-3,45226301356237</td>\n",
       "      <td>NaN</td>\n",
       "      <td>NaN</td>\n",
       "    </tr>\n",
       "    <tr>\n",
       "      <th>...</th>\n",
       "      <td>...</td>\n",
       "      <td>...</td>\n",
       "      <td>...</td>\n",
       "      <td>...</td>\n",
       "      <td>...</td>\n",
       "      <td>...</td>\n",
       "      <td>...</td>\n",
       "      <td>...</td>\n",
       "      <td>...</td>\n",
       "      <td>...</td>\n",
       "      <td>...</td>\n",
       "      <td>...</td>\n",
       "      <td>...</td>\n",
       "      <td>...</td>\n",
       "      <td>...</td>\n",
       "      <td>...</td>\n",
       "      <td>...</td>\n",
       "      <td>...</td>\n",
       "      <td>...</td>\n",
       "      <td>...</td>\n",
       "      <td>...</td>\n",
       "    </tr>\n",
       "    <tr>\n",
       "      <th>15330</th>\n",
       "      <td>15331</td>\n",
       "      <td>153901377</td>\n",
       "      <td>False</td>\n",
       "      <td>infocasa consulting</td>\n",
       "      <td>911360461.0</td>\n",
       "      <td>https://www.fotocasa.es/es/comprar/vivienda/ma...</td>\n",
       "      <td>2.0</td>\n",
       "      <td>1.0</td>\n",
       "      <td>96.0</td>\n",
       "      <td>259470</td>\n",
       "      <td>...</td>\n",
       "      <td>0</td>\n",
       "      <td>0</td>\n",
       "      <td>0</td>\n",
       "      <td>0</td>\n",
       "      <td>0</td>\n",
       "      <td>0</td>\n",
       "      <td>40,45416</td>\n",
       "      <td>-3,70286</td>\n",
       "      <td>NaN</td>\n",
       "      <td>NaN</td>\n",
       "    </tr>\n",
       "    <tr>\n",
       "      <th>15331</th>\n",
       "      <td>15332</td>\n",
       "      <td>150394373</td>\n",
       "      <td>False</td>\n",
       "      <td>inmobiliaria pulpon</td>\n",
       "      <td>912788039.0</td>\n",
       "      <td>https://www.fotocasa.es/es/comprar/vivienda/ma...</td>\n",
       "      <td>3.0</td>\n",
       "      <td>1.0</td>\n",
       "      <td>150.0</td>\n",
       "      <td>165000</td>\n",
       "      <td>...</td>\n",
       "      <td>0</td>\n",
       "      <td>0</td>\n",
       "      <td>0</td>\n",
       "      <td>0</td>\n",
       "      <td>0</td>\n",
       "      <td>0</td>\n",
       "      <td>40,36652</td>\n",
       "      <td>-3,48951</td>\n",
       "      <td>NaN</td>\n",
       "      <td>NaN</td>\n",
       "    </tr>\n",
       "    <tr>\n",
       "      <th>15332</th>\n",
       "      <td>15333</td>\n",
       "      <td>153901397</td>\n",
       "      <td>False</td>\n",
       "      <td>tecnocasa torrelodones</td>\n",
       "      <td>912780348.0</td>\n",
       "      <td>https://www.fotocasa.es/es/comprar/vivienda/ma...</td>\n",
       "      <td>4.0</td>\n",
       "      <td>2.0</td>\n",
       "      <td>175.0</td>\n",
       "      <td>495000</td>\n",
       "      <td>...</td>\n",
       "      <td>0</td>\n",
       "      <td>0</td>\n",
       "      <td>0</td>\n",
       "      <td>0</td>\n",
       "      <td>0</td>\n",
       "      <td>0</td>\n",
       "      <td>40,57444</td>\n",
       "      <td>-3,92124</td>\n",
       "      <td>NaN</td>\n",
       "      <td>NaN</td>\n",
       "    </tr>\n",
       "    <tr>\n",
       "      <th>15333</th>\n",
       "      <td>15334</td>\n",
       "      <td>152607440</td>\n",
       "      <td>False</td>\n",
       "      <td>inmobiliaria pulpon</td>\n",
       "      <td>912788039.0</td>\n",
       "      <td>https://www.fotocasa.es/es/comprar/vivienda/ma...</td>\n",
       "      <td>3.0</td>\n",
       "      <td>2.0</td>\n",
       "      <td>101.0</td>\n",
       "      <td>195000</td>\n",
       "      <td>...</td>\n",
       "      <td>0</td>\n",
       "      <td>0</td>\n",
       "      <td>0</td>\n",
       "      <td>0</td>\n",
       "      <td>0</td>\n",
       "      <td>0</td>\n",
       "      <td>40,36967</td>\n",
       "      <td>-3,48105</td>\n",
       "      <td>NaN</td>\n",
       "      <td>NaN</td>\n",
       "    </tr>\n",
       "    <tr>\n",
       "      <th>15334</th>\n",
       "      <td>15335</td>\n",
       "      <td>153901356</td>\n",
       "      <td>False</td>\n",
       "      <td>infocasa consulting</td>\n",
       "      <td>911360461.0</td>\n",
       "      <td>https://www.fotocasa.es/es/comprar/vivienda/ma...</td>\n",
       "      <td>3.0</td>\n",
       "      <td>2.0</td>\n",
       "      <td>152.0</td>\n",
       "      <td>765000</td>\n",
       "      <td>...</td>\n",
       "      <td>0</td>\n",
       "      <td>0</td>\n",
       "      <td>0</td>\n",
       "      <td>0</td>\n",
       "      <td>0</td>\n",
       "      <td>0</td>\n",
       "      <td>40,45773</td>\n",
       "      <td>-3,69068</td>\n",
       "      <td>NaN</td>\n",
       "      <td>NaN</td>\n",
       "    </tr>\n",
       "  </tbody>\n",
       "</table>\n",
       "<p>15335 rows × 37 columns</p>\n",
       "</div>"
      ],
      "text/plain": [
       "       Unnamed: 0  id_realEstates  isNew                    realEstate_name  \\\n",
       "0               1       153771986  False            ferrari 57 inmobiliaria   \n",
       "1               2       153867863  False  tecnocasa fuenlabrada ferrocarril   \n",
       "2               3       153430440  False                 look find boadilla   \n",
       "3               4       152776331  False  tecnocasa fuenlabrada ferrocarril   \n",
       "4               5       153180188  False            ferrari 57 inmobiliaria   \n",
       "...           ...             ...    ...                                ...   \n",
       "15330       15331       153901377  False                infocasa consulting   \n",
       "15331       15332       150394373  False                inmobiliaria pulpon   \n",
       "15332       15333       153901397  False             tecnocasa torrelodones   \n",
       "15333       15334       152607440  False                inmobiliaria pulpon   \n",
       "15334       15335       153901356  False                infocasa consulting   \n",
       "\n",
       "       phone_realEstate                                       url_inmueble  \\\n",
       "0           912177526.0  https://www.fotocasa.es/es/comprar/vivienda/ma...   \n",
       "1           916358736.0  https://www.fotocasa.es/es/comprar/vivienda/ma...   \n",
       "2           916350408.0  https://www.fotocasa.es/es/comprar/vivienda/ma...   \n",
       "3           916358736.0  https://www.fotocasa.es/es/comprar/vivienda/ma...   \n",
       "4           912177526.0  https://www.fotocasa.es/es/comprar/vivienda/ma...   \n",
       "...                 ...                                                ...   \n",
       "15330       911360461.0  https://www.fotocasa.es/es/comprar/vivienda/ma...   \n",
       "15331       912788039.0  https://www.fotocasa.es/es/comprar/vivienda/ma...   \n",
       "15332       912780348.0  https://www.fotocasa.es/es/comprar/vivienda/ma...   \n",
       "15333       912788039.0  https://www.fotocasa.es/es/comprar/vivienda/ma...   \n",
       "15334       911360461.0  https://www.fotocasa.es/es/comprar/vivienda/ma...   \n",
       "\n",
       "       rooms  bathrooms  surface   price  ... level4Id level5Id level6Id  \\\n",
       "0        3.0        2.0    103.0  195000  ...        0        0        0   \n",
       "1        3.0        1.0      NaN   89000  ...        0        0        0   \n",
       "2        2.0        2.0     99.0  390000  ...        0        0        0   \n",
       "3        3.0        1.0     86.0   89000  ...        0        0        0   \n",
       "4        2.0        2.0    106.0  172000  ...        0        0        0   \n",
       "...      ...        ...      ...     ...  ...      ...      ...      ...   \n",
       "15330    2.0        1.0     96.0  259470  ...        0        0        0   \n",
       "15331    3.0        1.0    150.0  165000  ...        0        0        0   \n",
       "15332    4.0        2.0    175.0  495000  ...        0        0        0   \n",
       "15333    3.0        2.0    101.0  195000  ...        0        0        0   \n",
       "15334    3.0        2.0    152.0  765000  ...        0        0        0   \n",
       "\n",
       "      level7Id level8Id accuracy          latitude          longitude zipCode  \\\n",
       "0            0        0        0  40,2948276786438  -3,44402412135624     NaN   \n",
       "1            0        0        1          40,28674           -3,79351     NaN   \n",
       "2            0        0        0  40,4115646786438  -3,90662252135624     NaN   \n",
       "3            0        0        0  40,2853785786438  -3,79508142135624     NaN   \n",
       "4            0        0        0  40,2998774864376  -3,45226301356237     NaN   \n",
       "...        ...      ...      ...               ...                ...     ...   \n",
       "15330        0        0        0          40,45416           -3,70286     NaN   \n",
       "15331        0        0        0          40,36652           -3,48951     NaN   \n",
       "15332        0        0        0          40,57444           -3,92124     NaN   \n",
       "15333        0        0        0          40,36967           -3,48105     NaN   \n",
       "15334        0        0        0          40,45773           -3,69068     NaN   \n",
       "\n",
       "      customZone  \n",
       "0            NaN  \n",
       "1            NaN  \n",
       "2            NaN  \n",
       "3            NaN  \n",
       "4            NaN  \n",
       "...          ...  \n",
       "15330        NaN  \n",
       "15331        NaN  \n",
       "15332        NaN  \n",
       "15333        NaN  \n",
       "15334        NaN  \n",
       "\n",
       "[15335 rows x 37 columns]"
      ]
     },
     "execution_count": 7,
     "metadata": {},
     "output_type": "execute_result"
    }
   ],
   "source": [
    "import pandas as pd\n",
    "\n",
    "# Leer el archivo CSV\n",
    "df = pd.read_csv('assets/real_estate.csv', sep=';') # Este archivo CSV contiene puntos y comas en lugar de comas como separadores\n",
    "df # mostramos todo"
   ]
  },
  {
   "cell_type": "markdown",
   "id": "7c9f690a",
   "metadata": {},
   "source": [
    "- Display the first rows of the CSV file."
   ]
  },
  {
   "cell_type": "code",
   "execution_count": 11,
   "id": "a8ff6c53",
   "metadata": {},
   "outputs": [
    {
     "data": {
      "text/html": [
       "<div>\n",
       "<style scoped>\n",
       "    .dataframe tbody tr th:only-of-type {\n",
       "        vertical-align: middle;\n",
       "    }\n",
       "\n",
       "    .dataframe tbody tr th {\n",
       "        vertical-align: top;\n",
       "    }\n",
       "\n",
       "    .dataframe thead th {\n",
       "        text-align: right;\n",
       "    }\n",
       "</style>\n",
       "<table border=\"1\" class=\"dataframe\">\n",
       "  <thead>\n",
       "    <tr style=\"text-align: right;\">\n",
       "      <th></th>\n",
       "      <th>Unnamed: 0</th>\n",
       "      <th>id_realEstates</th>\n",
       "      <th>isNew</th>\n",
       "      <th>realEstate_name</th>\n",
       "      <th>phone_realEstate</th>\n",
       "      <th>url_inmueble</th>\n",
       "      <th>rooms</th>\n",
       "      <th>bathrooms</th>\n",
       "      <th>surface</th>\n",
       "      <th>price</th>\n",
       "      <th>...</th>\n",
       "      <th>level4Id</th>\n",
       "      <th>level5Id</th>\n",
       "      <th>level6Id</th>\n",
       "      <th>level7Id</th>\n",
       "      <th>level8Id</th>\n",
       "      <th>accuracy</th>\n",
       "      <th>latitude</th>\n",
       "      <th>longitude</th>\n",
       "      <th>zipCode</th>\n",
       "      <th>customZone</th>\n",
       "    </tr>\n",
       "  </thead>\n",
       "  <tbody>\n",
       "    <tr>\n",
       "      <th>0</th>\n",
       "      <td>1</td>\n",
       "      <td>153771986</td>\n",
       "      <td>False</td>\n",
       "      <td>ferrari 57 inmobiliaria</td>\n",
       "      <td>912177526.0</td>\n",
       "      <td>https://www.fotocasa.es/es/comprar/vivienda/ma...</td>\n",
       "      <td>3.0</td>\n",
       "      <td>2.0</td>\n",
       "      <td>103.0</td>\n",
       "      <td>195000</td>\n",
       "      <td>...</td>\n",
       "      <td>0</td>\n",
       "      <td>0</td>\n",
       "      <td>0</td>\n",
       "      <td>0</td>\n",
       "      <td>0</td>\n",
       "      <td>0</td>\n",
       "      <td>40,2948276786438</td>\n",
       "      <td>-3,44402412135624</td>\n",
       "      <td>NaN</td>\n",
       "      <td>NaN</td>\n",
       "    </tr>\n",
       "  </tbody>\n",
       "</table>\n",
       "<p>1 rows × 37 columns</p>\n",
       "</div>"
      ],
      "text/plain": [
       "   Unnamed: 0  id_realEstates  isNew          realEstate_name  \\\n",
       "0           1       153771986  False  ferrari 57 inmobiliaria   \n",
       "\n",
       "   phone_realEstate                                       url_inmueble  rooms  \\\n",
       "0       912177526.0  https://www.fotocasa.es/es/comprar/vivienda/ma...    3.0   \n",
       "\n",
       "   bathrooms  surface   price  ... level4Id level5Id level6Id level7Id  \\\n",
       "0        2.0    103.0  195000  ...        0        0        0        0   \n",
       "\n",
       "  level8Id accuracy          latitude          longitude zipCode customZone  \n",
       "0        0        0  40,2948276786438  -3,44402412135624     NaN        NaN  \n",
       "\n",
       "[1 rows x 37 columns]"
      ]
     },
     "execution_count": 11,
     "metadata": {},
     "output_type": "execute_result"
    }
   ],
   "source": [
    "ds.head(1)"
   ]
  },
  {
   "cell_type": "markdown",
   "id": "ce7aed60",
   "metadata": {},
   "source": [
    "Perfect, this was a small practice. Now let's begin with the real exercises!"
   ]
  },
  {
   "cell_type": "markdown",
   "id": "1221311f",
   "metadata": {},
   "source": [
    "#### Exercise 01. What is the most expensive house in the entire dataset? (★☆☆)\n",
    "\n",
    "Print the address and price of the selected house. For example:\n",
    "\n",
    "`The house located at Calle del Prado, Nº20 is the most expensive, and its price is 5000000 USD.`"
   ]
  },
  {
   "cell_type": "code",
   "execution_count": 8,
   "id": "aa45da68",
   "metadata": {},
   "outputs": [
    {
     "name": "stdout",
     "output_type": "stream",
     "text": [
      "The house located at El Escorial,is the most expensive, and its price is 8500000USD.`\n"
     ]
    }
   ],
   "source": [
    "max_index=df['price'].idxmax()\n",
    "price=df['price'][max_index]\n",
    "location=df['address'][max_index]\n",
    "print(f\"The house located at {location},is the most \\\n",
    "expensive, and its price is {price}USD.`\")"
   ]
  },
  {
   "cell_type": "markdown",
   "id": "8059b1b6",
   "metadata": {},
   "source": [
    "#### Exercise 02. What is the cheapest house in the dataset? (★☆☆)\n",
    "\n",
    "This exercise is similar to the previous one, except now we are looking for the house with the lowest price. Remember to print the address and price of the selected house. For example:\n",
    "\n",
    "`The house located at Calle Alcalá, Nº58 is the cheapest, and its price is 12000 USD.`\n"
   ]
  },
  {
   "cell_type": "code",
   "execution_count": 9,
   "id": "007c60de",
   "metadata": {},
   "outputs": [
    {
     "name": "stdout",
     "output_type": "stream",
     "text": [
      "The house located at Berlin, Coslada,is the cheapest, and its price is 600USD.`\n"
     ]
    }
   ],
   "source": [
    "\n",
    "price_index=df[df['price']!=0]['price'].idxmin()\n",
    "price=df['price'][price_index]\n",
    "addres=df['address'][price_index]\n",
    "print(f\"The house located at {addres},is the \\\n",
    "cheapest, and its price is {price}USD.`\")\n"
   ]
  },
  {
   "cell_type": "markdown",
   "id": "637612ca",
   "metadata": {},
   "source": [
    "#### Exercise 03. What is the largest and smallest house in the dataset? (★☆☆)\n",
    "\n",
    "Print the address and area of the selected houses. For example:\n",
    "\n",
    "`The largest house is located at Calle Gran Vía, Nº38, and its area is 5000 square meters.`\n",
    "\n",
    "`The smallest house is located at Calle Mayor, Nº12, and its area is 200 square meters.`\n",
    "\n",
    "This exercise is similar to the previous one, but we are looking for the largest and smallest houses based on their area."
   ]
  },
  {
   "cell_type": "code",
   "execution_count": 10,
   "id": "580cbc83",
   "metadata": {},
   "outputs": [
    {
     "name": "stdout",
     "output_type": "stream",
     "text": [
      "The largest house is located at Sevilla la Nueva, and its area is 249000.0 square meters.`\n",
      "The smallest house is located atCalle Amparo,  Madrid Capital and its area is 15.0 square meters.`\n"
     ]
    }
   ],
   "source": [
    "lowest=df[df['surface']!=0]['surface'].idxmin()\n",
    "biggest=df['surface'].idxmax()\n",
    "surface=df['surface'][biggest]\n",
    "address=df['address'][biggest]\n",
    "surface1=df['surface'][lowest]\n",
    "address1=df['address'][lowest]\n",
    "print(f\"The largest house is located at \\\n",
    "{address}, and its area is {surface} square meters.`\")\n",
    "print(f\"The smallest house is located at\\\n",
    "{address1} and its area is {surface1} square meters.`\")"
   ]
  },
  {
   "cell_type": "markdown",
   "id": "c92af6da",
   "metadata": {},
   "source": [
    "#### Exercise 04. How many unique populations are in the dataset? (★☆☆)\n",
    "\n",
    "Count the number of unique populations in the 'level5' column and print the names of the populations separated by commas. For example:\n",
    "\n",
    "`> print(populations)`\n",
    "\n",
    "`population1, population2, population3, ...`"
   ]
  },
  {
   "cell_type": "code",
   "execution_count": 12,
   "id": "07ef25bb",
   "metadata": {},
   "outputs": [
    {
     "data": {
      "text/plain": [
       "'Arganda del Rey,Fuenlabrada,Boadilla del Monte,Las Rozas de Madrid, Madrid Capital,Villaviciosa de Odón,Pinto,Valdemoro,Navalcarnero,Pozuelo de Alarcón,Torrejón de Ardoz,Navalagamella,San Sebastián de los Reyes,Rivas-vaciamadrid,Alpedrete,Móstoles,San Fernando de Henares,Coslada,Becerril de la Sierra,Alcalá de Henares,Chinchón,Parla,Alcorcón,El Escorial,Leganés,Pedrezuela,Majadahonda,Villanueva de la Cañada,Villanueva del Pardillo,Torrelodones,Moralzarzal,Mejorada del Campo,Aranjuez,Corpa,Getafe,Velilla de San Antonio,Sevilla la Nueva,San Martín de la Vega,Villalbilla,Collado Villalba,Alcobendas,El Molar (Madrid),Moraleja de Enmedio,Algete,Campo Real,Torrejón de la Calzada,Colmenar Viejo,Valdemorillo,Fuente El Saz de Jarama,Tres Cantos,Arroyomolinos (Madrid),Griñón,Paracuellos de Jarama,Guadarrama,Titulcia,Galapagar,Collado Mediano,Los Molinos,San Lorenzo de El Escorial,Loeches,San Martín de Valdeiglesias,Navas del Rey,Bustarviejo,Manzanares El Real,Carabaña,Casarrubuelos,Cercedilla,Fresnedillas de la Oliva,Valdemaqueda,Robledo de Chavela,Miraflores de la Sierra,Humanes de Madrid,Valdetorres de Jarama,San Agustín del Guadalix,Ciempozuelos,Camarma de Esteruelas,Torres de la Alameda,Talamanca de Jarama,El Atazar,Hoyo de Manzanares,El Boalo - Cerceda – Mataelpino,El Álamo,Valdilecha,Valdeolmos-Alalpardo,Guadalix de la Sierra,Belmonte de Tajo,El Vellón,Brunete,Redueña,Morata de Tajuña,Tielmes,Gargantilla del Lozoya,Meco,Venturada,Quijorna,Cenicientos,Torrejón de Velasco,Navacerrada,Santa María de la Alameda,Orusco de Tajuña,Daganzo de Arriba,Villamanta,Anchuelo,Valdaracete,Ajalvir,Los Santos de la Humosa,Villamanrique de Tajo,Colmenar de Oreja,Villa del Prado,Fuentidueña de Tajo,Colmenar del Arroyo,Valdelaguna,Cubas de la Sagra,Valdeavero,Aldea del Fresno,Ribatejada,Torrelaguna,Batres,Pezuela de las Torres,Colmenarejo,Serranillos del Valle,Cobeña,Soto del Real,El Berrueco,Villanueva de Perales,Fresno de Torote - Serracines,Pozuelo del Rey,Pelayos de la Presa,La Cabrera,Nuevo Baztán,Perales de Tajuña,Villaconejos,Villarejo de Salvanés,Cadalso de los Vidrios,Santorcaz,Madarcos,Garganta de los Montes,Puentes Viejas,Torremocha de Jarama,Valdemanco,Braojos,Lozoyuela-navas-sieteiglesias,Piñuécar-gandullas,Valdepiélagos,Valverde de Alcalá,Villar del Olmo,Villamantilla,Horcajo de la Sierra,Gascones,Zarzalejo,Villavieja del Lozoya,Brea de Tajo,Estremera,Chapinería,Navarredonda,Patones,Ambite,Navalafuente,Lozoya,Canencia,Cabanillas de la Sierra,Buitrago del Lozoya,Fresno de Torote,Robregordo,Pinilla del Valle,Rascafría,La Hiruela,Montejo de la Sierra'"
      ]
     },
     "execution_count": 12,
     "metadata": {},
     "output_type": "execute_result"
    }
   ],
   "source": [
    "level5=df['level5'].unique()\n",
    "level5=','.join(level5)\n",
    "level5"
   ]
  },
  {
   "cell_type": "markdown",
   "id": "08fda078",
   "metadata": {},
   "source": [
    "#### Exercise 05. Does the dataset contain null values (NAs)? (★☆☆)\n",
    "\n",
    "Print a boolean (`True` or `False`) to check if there are null values, followed by the columns that contain NAs."
   ]
  },
  {
   "cell_type": "code",
   "execution_count": 26,
   "id": "7eb98e35",
   "metadata": {},
   "outputs": [
    {
     "name": "stdout",
     "output_type": "stream",
     "text": [
      "the realEstate_namehas 10 NA\n",
      "the phone_realEstatehas 794 NA\n",
      "the roomshas 353 NA\n",
      "the bathroomshas 345 NA\n",
      "the surfacehas 1250 NA\n",
      "the descriptionhas 142 NA\n",
      "the level4has 6643 NA\n",
      "the level6has 14627 NA\n",
      "the level7has 2277 NA\n",
      "the level8has 8579 NA\n",
      "the zipCodehas 15335 NA\n",
      "the customZonehas 15335 NA\n"
     ]
    }
   ],
   "source": [
    "#df. isna().sum().sum()\n",
    "#df.isnull().sum()\n",
    "for i in df.columns:\n",
    "    if df[i].isna().sum()>0:\n",
    "         print(f\"the {i}has {df[i].isna().sum()} NA\")\n"
   ]
  },
  {
   "cell_type": "markdown",
   "id": "a8b31e50",
   "metadata": {},
   "source": [
    "#### Exercise 06. Remove the null values (NAs) from the dataset, if applicable (★★☆)\n",
    "\n",
    "After removing the null values, compare the size of the DataFrame before and after the removal."
   ]
  },
  {
   "cell_type": "code",
   "execution_count": 47,
   "id": "9f174338",
   "metadata": {},
   "outputs": [
    {
     "data": {
      "text/plain": [
       "(15335, 25)"
      ]
     },
     "execution_count": 47,
     "metadata": {},
     "output_type": "execute_result"
    }
   ],
   "source": [
    "#df.dropna(how='all').shape #bu hepsinin silinmesi \n",
    "#df.dropna(axis=0).shape\n",
    "df.dropna(axis=1).shape"
   ]
  },
  {
   "cell_type": "markdown",
   "id": "71fd820e",
   "metadata": {},
   "source": [
    "#### Exercise 07. What is the average price in the population of \"Arroyomolinos (Madrid)\"? (★★☆)\n",
    "\n",
    "Print the value obtained from the 'level5' column."
   ]
  },
  {
   "cell_type": "code",
   "execution_count": 60,
   "id": "2a495ff1",
   "metadata": {},
   "outputs": [
    {
     "data": {
      "text/plain": [
       "np.float64(294541.6)"
      ]
     },
     "execution_count": 60,
     "metadata": {},
     "output_type": "execute_result"
    }
   ],
   "source": [
    "#a=df.index[df['level5'].isin([\"Arroyomolinos (Madrid)\"])]\n",
    "df.loc[a,'price'].mean().round(2)\n",
    "#print(df.loc[a,'price']) #this is my way actually it give us a true\n",
    "#print(f\"Arroyomolinos house mean is {round(df[df['level5']=='Arroyomolinos (Madrid)']['price'].mean()),2}\")\n"
   ]
  },
  {
   "cell_type": "markdown",
   "id": "75911380",
   "metadata": {},
   "source": [
    "#### Exercise 08. Plot the histogram of prices for the population of \"Arroyomolinos (Madrid)\" and explain what you observe (★★☆)\n",
    "\n",
    "Print the histogram of the prices and write a brief analysis of the plot in the Markdown cell."
   ]
  },
  {
   "cell_type": "code",
   "execution_count": null,
   "id": "070c7ed3",
   "metadata": {},
   "outputs": [
    {
     "ename": "ModuleNotFoundError",
     "evalue": "No module named 'matplot'",
     "output_type": "error",
     "traceback": [
      "\u001b[31m---------------------------------------------------------------------------\u001b[39m",
      "\u001b[31mModuleNotFoundError\u001b[39m                       Traceback (most recent call last)",
      "\u001b[36mCell\u001b[39m\u001b[36m \u001b[39m\u001b[32mIn[49]\u001b[39m\u001b[32m, line 1\u001b[39m\n\u001b[32m----> \u001b[39m\u001b[32m1\u001b[39m \u001b[38;5;28;01mimport\u001b[39;00m\u001b[38;5;250m \u001b[39m\u001b[34;01mmatplot\u001b[39;00m\n\u001b[32m      2\u001b[39m df.loc[a,price]\n\u001b[32m      3\u001b[39m \u001b[38;5;66;03m# Plot the histogram of prices\u001b[39;00m\n",
      "\u001b[31mModuleNotFoundError\u001b[39m: No module named 'matplot'"
     ]
    }
   ],
   "source": [
    "import matplot\n",
    "#lib.pyplot as plt\n",
    "df.loc[a,price]\n",
    "# Plot the histogram of prices"
   ]
  }
 ],
 "metadata": {
  "kernelspec": {
   "display_name": "Python 3",
   "language": "python",
   "name": "python3"
  },
  "language_info": {
   "codemirror_mode": {
    "name": "ipython",
    "version": 3
   },
   "file_extension": ".py",
   "mimetype": "text/x-python",
   "name": "python",
   "nbconvert_exporter": "python",
   "pygments_lexer": "ipython3",
   "version": "3.11.4"
  }
 },
 "nbformat": 4,
 "nbformat_minor": 5
}
